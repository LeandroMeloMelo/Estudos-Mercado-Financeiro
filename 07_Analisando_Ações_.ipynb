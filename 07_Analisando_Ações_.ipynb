{
  "nbformat": 4,
  "nbformat_minor": 0,
  "metadata": {
    "colab": {
      "name": "07 - ANÁLISE ESTATÍSTICA DA QUEDA DE 12% DO IBOV  .ipynb",
      "provenance": [],
      "collapsed_sections": []
    },
    "kernelspec": {
      "name": "python3",
      "display_name": "Python 3"
    }
  },
  "cells": [
    {
      "cell_type": "code",
      "metadata": {
        "id": "4R6RpYjMFswH",
        "colab_type": "code",
        "colab": {}
      },
      "source": [
        "import numpy as np\n",
        "import pandas as pd\n",
        "import matplotlib.pyplot as plt\n",
        "import pandas_datareader.data as web\n",
        "import seaborn as sns\n",
        "sns.set()\n",
        "\n",
        "import random"
      ],
      "execution_count": null,
      "outputs": []
    },
    {
      "cell_type": "code",
      "metadata": {
        "id": "yFFsYUXPv49d",
        "colab_type": "code",
        "colab": {}
      },
      "source": [
        "!pip install yfinance --upgrade --no-cache-dir\n",
        "import yfinance as yf"
      ],
      "execution_count": null,
      "outputs": []
    },
    {
      "cell_type": "code",
      "metadata": {
        "id": "eMgxx9bqvkCR",
        "colab_type": "code",
        "colab": {}
      },
      "source": [
        "from scipy.stats import norm, t"
      ],
      "execution_count": null,
      "outputs": []
    },
    {
      "cell_type": "markdown",
      "metadata": {
        "id": "mMeapEMEINsT",
        "colab_type": "text"
      },
      "source": [
        "#Obtendo dados do IBOVSPA\n"
      ]
    },
    {
      "cell_type": "code",
      "metadata": {
        "id": "7AqR590Qyslf",
        "colab_type": "code",
        "colab": {
          "base_uri": "https://localhost:8080/",
          "height": 242
        },
        "outputId": "05c86cb5-e1f0-4dff-a57a-174625b84506"
      },
      "source": [
        "ibov = yf.download(\"^BVSP\")\n",
        "ibov.head()"
      ],
      "execution_count": null,
      "outputs": [
        {
          "output_type": "stream",
          "text": [
            "\r[*********************100%***********************]  1 of 1 completed\n"
          ],
          "name": "stdout"
        },
        {
          "output_type": "execute_result",
          "data": {
            "text/html": [
              "<div>\n",
              "<style scoped>\n",
              "    .dataframe tbody tr th:only-of-type {\n",
              "        vertical-align: middle;\n",
              "    }\n",
              "\n",
              "    .dataframe tbody tr th {\n",
              "        vertical-align: top;\n",
              "    }\n",
              "\n",
              "    .dataframe thead th {\n",
              "        text-align: right;\n",
              "    }\n",
              "</style>\n",
              "<table border=\"1\" class=\"dataframe\">\n",
              "  <thead>\n",
              "    <tr style=\"text-align: right;\">\n",
              "      <th></th>\n",
              "      <th>Open</th>\n",
              "      <th>High</th>\n",
              "      <th>Low</th>\n",
              "      <th>Close</th>\n",
              "      <th>Adj Close</th>\n",
              "      <th>Volume</th>\n",
              "    </tr>\n",
              "    <tr>\n",
              "      <th>Date</th>\n",
              "      <th></th>\n",
              "      <th></th>\n",
              "      <th></th>\n",
              "      <th></th>\n",
              "      <th></th>\n",
              "      <th></th>\n",
              "    </tr>\n",
              "  </thead>\n",
              "  <tbody>\n",
              "    <tr>\n",
              "      <th>1993-04-27</th>\n",
              "      <td>24.799999</td>\n",
              "      <td>25.400000</td>\n",
              "      <td>24.500000</td>\n",
              "      <td>24.500000</td>\n",
              "      <td>24.500000</td>\n",
              "      <td>0</td>\n",
              "    </tr>\n",
              "    <tr>\n",
              "      <th>1993-04-28</th>\n",
              "      <td>24.500000</td>\n",
              "      <td>24.600000</td>\n",
              "      <td>23.700001</td>\n",
              "      <td>24.299999</td>\n",
              "      <td>24.299999</td>\n",
              "      <td>0</td>\n",
              "    </tr>\n",
              "    <tr>\n",
              "      <th>1993-04-29</th>\n",
              "      <td>24.299999</td>\n",
              "      <td>24.799999</td>\n",
              "      <td>23.700001</td>\n",
              "      <td>23.700001</td>\n",
              "      <td>23.700001</td>\n",
              "      <td>0</td>\n",
              "    </tr>\n",
              "    <tr>\n",
              "      <th>1993-04-30</th>\n",
              "      <td>23.700001</td>\n",
              "      <td>24.200001</td>\n",
              "      <td>23.700001</td>\n",
              "      <td>24.100000</td>\n",
              "      <td>24.100000</td>\n",
              "      <td>0</td>\n",
              "    </tr>\n",
              "    <tr>\n",
              "      <th>1993-05-03</th>\n",
              "      <td>24.100000</td>\n",
              "      <td>24.400000</td>\n",
              "      <td>23.799999</td>\n",
              "      <td>24.100000</td>\n",
              "      <td>24.100000</td>\n",
              "      <td>0</td>\n",
              "    </tr>\n",
              "  </tbody>\n",
              "</table>\n",
              "</div>"
            ],
            "text/plain": [
              "                 Open       High        Low      Close  Adj Close  Volume\n",
              "Date                                                                     \n",
              "1993-04-27  24.799999  25.400000  24.500000  24.500000  24.500000       0\n",
              "1993-04-28  24.500000  24.600000  23.700001  24.299999  24.299999       0\n",
              "1993-04-29  24.299999  24.799999  23.700001  23.700001  23.700001       0\n",
              "1993-04-30  23.700001  24.200001  23.700001  24.100000  24.100000       0\n",
              "1993-05-03  24.100000  24.400000  23.799999  24.100000  24.100000       0"
            ]
          },
          "metadata": {
            "tags": []
          },
          "execution_count": 30
        }
      ]
    },
    {
      "cell_type": "code",
      "metadata": {
        "id": "QSTQRDyTGB1F",
        "colab_type": "code",
        "colab": {
          "base_uri": "https://localhost:8080/",
          "height": 34
        },
        "outputId": "aba3c1c3-e0fe-4cbc-d854-65748f603603"
      },
      "source": [
        "ibov = yf.download(\"^BVSP\")[[\"Adj Close\"]]"
      ],
      "execution_count": null,
      "outputs": [
        {
          "output_type": "stream",
          "text": [
            "\r[*********************100%***********************]  1 of 1 completed\n"
          ],
          "name": "stdout"
        }
      ]
    },
    {
      "cell_type": "code",
      "metadata": {
        "id": "cqhW9JJICM3v",
        "colab_type": "code",
        "colab": {
          "base_uri": "https://localhost:8080/",
          "height": 431
        },
        "outputId": "0ef850bf-1335-49a1-d317-0b8300b7a761"
      },
      "source": [
        "ibov"
      ],
      "execution_count": null,
      "outputs": [
        {
          "output_type": "execute_result",
          "data": {
            "text/html": [
              "<div>\n",
              "<style scoped>\n",
              "    .dataframe tbody tr th:only-of-type {\n",
              "        vertical-align: middle;\n",
              "    }\n",
              "\n",
              "    .dataframe tbody tr th {\n",
              "        vertical-align: top;\n",
              "    }\n",
              "\n",
              "    .dataframe thead th {\n",
              "        text-align: right;\n",
              "    }\n",
              "</style>\n",
              "<table border=\"1\" class=\"dataframe\">\n",
              "  <thead>\n",
              "    <tr style=\"text-align: right;\">\n",
              "      <th></th>\n",
              "      <th>Adj Close</th>\n",
              "    </tr>\n",
              "    <tr>\n",
              "      <th>Date</th>\n",
              "      <th></th>\n",
              "    </tr>\n",
              "  </thead>\n",
              "  <tbody>\n",
              "    <tr>\n",
              "      <th>1993-04-27</th>\n",
              "      <td>24.500000</td>\n",
              "    </tr>\n",
              "    <tr>\n",
              "      <th>1993-04-28</th>\n",
              "      <td>24.299999</td>\n",
              "    </tr>\n",
              "    <tr>\n",
              "      <th>1993-04-29</th>\n",
              "      <td>23.700001</td>\n",
              "    </tr>\n",
              "    <tr>\n",
              "      <th>1993-04-30</th>\n",
              "      <td>24.100000</td>\n",
              "    </tr>\n",
              "    <tr>\n",
              "      <th>1993-05-03</th>\n",
              "      <td>24.100000</td>\n",
              "    </tr>\n",
              "    <tr>\n",
              "      <th>...</th>\n",
              "      <td>...</td>\n",
              "    </tr>\n",
              "    <tr>\n",
              "      <th>2020-08-18</th>\n",
              "      <td>102065.000000</td>\n",
              "    </tr>\n",
              "    <tr>\n",
              "      <th>2020-08-19</th>\n",
              "      <td>100854.000000</td>\n",
              "    </tr>\n",
              "    <tr>\n",
              "      <th>2020-08-20</th>\n",
              "      <td>101468.000000</td>\n",
              "    </tr>\n",
              "    <tr>\n",
              "      <th>2020-08-21</th>\n",
              "      <td>101521.000000</td>\n",
              "    </tr>\n",
              "    <tr>\n",
              "      <th>2020-08-24</th>\n",
              "      <td>102150.632812</td>\n",
              "    </tr>\n",
              "  </tbody>\n",
              "</table>\n",
              "<p>6759 rows × 1 columns</p>\n",
              "</div>"
            ],
            "text/plain": [
              "                Adj Close\n",
              "Date                     \n",
              "1993-04-27      24.500000\n",
              "1993-04-28      24.299999\n",
              "1993-04-29      23.700001\n",
              "1993-04-30      24.100000\n",
              "1993-05-03      24.100000\n",
              "...                   ...\n",
              "2020-08-18  102065.000000\n",
              "2020-08-19  100854.000000\n",
              "2020-08-20  101468.000000\n",
              "2020-08-21  101521.000000\n",
              "2020-08-24  102150.632812\n",
              "\n",
              "[6759 rows x 1 columns]"
            ]
          },
          "metadata": {
            "tags": []
          },
          "execution_count": 10
        }
      ]
    },
    {
      "cell_type": "code",
      "metadata": {
        "id": "-J7YVOSICM9D",
        "colab_type": "code",
        "colab": {}
      },
      "source": [
        "ibov['retorno'] = ibov['Adj Close'].pct_change()\n",
        "ibov.dropna(inplace=True)"
      ],
      "execution_count": 31,
      "outputs": []
    },
    {
      "cell_type": "code",
      "metadata": {
        "id": "Pv-PAuKOClEg",
        "colab_type": "code",
        "colab": {
          "base_uri": "https://localhost:8080/",
          "height": 34
        },
        "outputId": "36146957-5020-481c-c941-7010aff8109a"
      },
      "source": [
        "media_ibov = ibov['retorno'].mean()\n",
        "print('Retorno médio = {:.2f}%'.format(media_ibov*100))"
      ],
      "execution_count": 32,
      "outputs": [
        {
          "output_type": "stream",
          "text": [
            "Retorno médio = 0.15%\n"
          ],
          "name": "stdout"
        }
      ]
    },
    {
      "cell_type": "code",
      "metadata": {
        "id": "GFBAQ4tVClMk",
        "colab_type": "code",
        "colab": {
          "base_uri": "https://localhost:8080/",
          "height": 34
        },
        "outputId": "ab73404a-fcfe-4061-869c-04b51f97943c"
      },
      "source": [
        "desvio_padrao_ibov = ibov['retorno'].std()\n",
        "print('Desvio padrão = {:.2f}%'.format(desvio_padrao_ibov*100))"
      ],
      "execution_count": 34,
      "outputs": [
        {
          "output_type": "stream",
          "text": [
            "Desvio padrão = 2.27%\n"
          ],
          "name": "stdout"
        }
      ]
    },
    {
      "cell_type": "code",
      "metadata": {
        "id": "x0OWPW-hwVtI",
        "colab_type": "code",
        "colab": {
          "base_uri": "https://localhost:8080/",
          "height": 225
        },
        "outputId": "bc8666f5-5865-4feb-8329-7055e11151a6"
      },
      "source": [
        "ibov[ibov[\"retorno\"] < -0.12]"
      ],
      "execution_count": null,
      "outputs": [
        {
          "output_type": "execute_result",
          "data": {
            "text/html": [
              "<div>\n",
              "<style scoped>\n",
              "    .dataframe tbody tr th:only-of-type {\n",
              "        vertical-align: middle;\n",
              "    }\n",
              "\n",
              "    .dataframe tbody tr th {\n",
              "        vertical-align: top;\n",
              "    }\n",
              "\n",
              "    .dataframe thead th {\n",
              "        text-align: right;\n",
              "    }\n",
              "</style>\n",
              "<table border=\"1\" class=\"dataframe\">\n",
              "  <thead>\n",
              "    <tr style=\"text-align: right;\">\n",
              "      <th></th>\n",
              "      <th>Adj Close</th>\n",
              "      <th>retorno</th>\n",
              "    </tr>\n",
              "    <tr>\n",
              "      <th>Date</th>\n",
              "      <th></th>\n",
              "      <th></th>\n",
              "    </tr>\n",
              "  </thead>\n",
              "  <tbody>\n",
              "    <tr>\n",
              "      <th>1997-10-27</th>\n",
              "      <td>9817.0</td>\n",
              "      <td>-0.149675</td>\n",
              "    </tr>\n",
              "    <tr>\n",
              "      <th>1998-09-10</th>\n",
              "      <td>4761.0</td>\n",
              "      <td>-0.158090</td>\n",
              "    </tr>\n",
              "    <tr>\n",
              "      <th>2020-03-09</th>\n",
              "      <td>86067.0</td>\n",
              "      <td>-0.121738</td>\n",
              "    </tr>\n",
              "    <tr>\n",
              "      <th>2020-03-12</th>\n",
              "      <td>72583.0</td>\n",
              "      <td>-0.147797</td>\n",
              "    </tr>\n",
              "    <tr>\n",
              "      <th>2020-03-16</th>\n",
              "      <td>71168.0</td>\n",
              "      <td>-0.139215</td>\n",
              "    </tr>\n",
              "  </tbody>\n",
              "</table>\n",
              "</div>"
            ],
            "text/plain": [
              "            Adj Close   retorno\n",
              "Date                           \n",
              "1997-10-27     9817.0 -0.149675\n",
              "1998-09-10     4761.0 -0.158090\n",
              "2020-03-09    86067.0 -0.121738\n",
              "2020-03-12    72583.0 -0.147797\n",
              "2020-03-16    71168.0 -0.139215"
            ]
          },
          "metadata": {
            "tags": []
          },
          "execution_count": 15
        }
      ]
    },
    {
      "cell_type": "markdown",
      "metadata": {
        "id": "elB9Jh73wdJA",
        "colab_type": "text"
      },
      "source": [
        "Qual a probabilidade do ibov cair mais que 12% considerando que os retornos seguem uma distribuição normal?"
      ]
    },
    {
      "cell_type": "code",
      "metadata": {
        "id": "VtoU59TmwYIa",
        "colab_type": "code",
        "colab": {
          "base_uri": "https://localhost:8080/",
          "height": 34
        },
        "outputId": "7c2c98c6-b5f9-4db1-e915-f8528358a316"
      },
      "source": [
        "probabilidade_teorica = norm.cdf(-0.12, loc=media_ibov, scale=desvio_padrao_ibov)\n",
        "print('{:.8f}%'.format(probabilidade_teorica*100))"
      ],
      "execution_count": null,
      "outputs": [
        {
          "output_type": "stream",
          "text": [
            "0.00000443%\n"
          ],
          "name": "stdout"
        }
      ]
    },
    {
      "cell_type": "code",
      "metadata": {
        "id": "uQ196iQqwepH",
        "colab_type": "code",
        "colab": {
          "base_uri": "https://localhost:8080/",
          "height": 50
        },
        "outputId": "89b8a42b-ca08-4cc4-a03c-fa0d73aa9ecf"
      },
      "source": [
        "frequencia_teorica = 1 / probabilidade_teorica\n",
        "print('Uma vez a cada {} dias'.format(int(round(frequencia_teorica, 5))))\n",
        "print('Ou uma vez a cada {} anos'.format(int(round(frequencia_teorica/252, 5))))"
      ],
      "execution_count": 35,
      "outputs": [
        {
          "output_type": "stream",
          "text": [
            "Uma vez a cada 22587949 dias\n",
            "Ou uma vez a cada 89634 anos\n"
          ],
          "name": "stdout"
        }
      ]
    },
    {
      "cell_type": "code",
      "metadata": {
        "id": "3UFMvNR_wetu",
        "colab_type": "code",
        "colab": {
          "base_uri": "https://localhost:8080/",
          "height": 293
        },
        "outputId": "0490d0e7-e4b4-4f91-a7c2-1cb89e202317"
      },
      "source": [
        "ibov['retorno'].plot(title=\"Retorno Diário do Índice Bovespa\");"
      ],
      "execution_count": 36,
      "outputs": [
        {
          "output_type": "display_data",
          "data": {
            "image/png": "[encoded data removed]",
            "text/plain": [
              "<Figure size 432x288 with 1 Axes>"
            ]
          },
          "metadata": {
            "tags": []
          }
        }
      ]
    },
    {
      "cell_type": "code",
      "metadata": {
        "id": "Drvc7dCuw_aN",
        "colab_type": "code",
        "colab": {}
      },
      "source": [
        "ibov['retorno_teorico'] = norm.rvs(size=ibov['retorno'].size,  loc=media_ibov, scale=desvio_padrao_ibov)"
      ],
      "execution_count": 37,
      "outputs": []
    },
    {
      "cell_type": "code",
      "metadata": {
        "id": "qo65YJCxw_dL",
        "colab_type": "code",
        "colab": {
          "base_uri": "https://localhost:8080/",
          "height": 292
        },
        "outputId": "0d03d9a2-a828-46c2-d4ec-bb2064ab2737"
      },
      "source": [
        "ax = ibov['retorno_teorico'].plot(title=\"Retorno Normal Simulado\");\n",
        "ax.set_ylim(-0.2, 0.4);"
      ],
      "execution_count": 38,
      "outputs": [
        {
          "output_type": "display_data",
          "data": {
            "image/png": "[encoded data removed]",
            "text/plain": [
              "<Figure size 432x288 with 1 Axes>"
            ]
          },
          "metadata": {
            "tags": []
          }
        }
      ]
    },
    {
      "cell_type": "code",
      "metadata": {
        "id": "aGFlmjFCxSUt",
        "colab_type": "code",
        "colab": {
          "base_uri": "https://localhost:8080/",
          "height": 285
        },
        "outputId": "92704426-1749-47d1-a304-4f268492fef0"
      },
      "source": [
        "sns.distplot(ibov['retorno'], bins=100, kde=False, fit=t);"
      ],
      "execution_count": 39,
      "outputs": [
        {
          "output_type": "display_data",
          "data": {
            "image/png": "[encoded data removed]",
            "text/plain": [
              "<Figure size 432x288 with 1 Axes>"
            ]
          },
          "metadata": {
            "tags": []
          }
        }
      ]
    },
    {
      "cell_type": "code",
      "metadata": {
        "id": "S5HbOwrWxSX1",
        "colab_type": "code",
        "colab": {
          "base_uri": "https://localhost:8080/",
          "height": 84
        },
        "outputId": "ef152ebb-680d-404b-82fe-03a570b3f1db"
      },
      "source": [
        "(graus_de_liberdade,  media_t, desvio_padrao_t) = t.fit(ibov['retorno'])\n",
        "print('Distribuição T-Student\\nGraus de liberdade={:.2f} \\nMédia={:.4f} \\nDesvio padrão={:.5f}'.format(graus_de_liberdade, media_t, desvio_padrao_t))"
      ],
      "execution_count": 40,
      "outputs": [
        {
          "output_type": "stream",
          "text": [
            "Distribuição T-Student\n",
            "Graus de liberdade=3.26 \n",
            "Média=0.0012 \n",
            "Desvio padrão=0.01449\n"
          ],
          "name": "stdout"
        }
      ]
    },
    {
      "cell_type": "code",
      "metadata": {
        "id": "gROdPTNHw_gr",
        "colab_type": "code",
        "colab": {
          "base_uri": "https://localhost:8080/",
          "height": 34
        },
        "outputId": "7aa293e4-6b99-48e7-ccc7-392bb6de5cc7"
      },
      "source": [
        "probabilidade_teorica_t = t.cdf(-0.12, graus_de_liberdade,  loc=media_t, scale=desvio_padrao_t)\n",
        "print('{:.8f}%'.format(probabilidade_teorica_t*100))"
      ],
      "execution_count": 41,
      "outputs": [
        {
          "output_type": "stream",
          "text": [
            "0.13013364%\n"
          ],
          "name": "stdout"
        }
      ]
    },
    {
      "cell_type": "code",
      "metadata": {
        "id": "B7CKkKjtxjGe",
        "colab_type": "code",
        "colab": {
          "base_uri": "https://localhost:8080/",
          "height": 67
        },
        "outputId": "2e1c1857-4d80-4438-a967-63d5293315e6"
      },
      "source": [
        "frequencia_teorica_t = 1 / probabilidade_teorica_t\n",
        "print('Para uma distribuição T-Student: \\nUma vez a cada {} dias'.format(int(round(frequencia_teorica_t, 5))))\n",
        "print('Ou uma vez a cada {} anos'.format(int(round(frequencia_teorica_t/252, 5))))"
      ],
      "execution_count": 42,
      "outputs": [
        {
          "output_type": "stream",
          "text": [
            "Para uma distribuição T-Student: \n",
            "Uma vez a cada 768 dias\n",
            "Ou uma vez a cada 3 anos\n"
          ],
          "name": "stdout"
        }
      ]
    },
    {
      "cell_type": "code",
      "metadata": {
        "id": "EXMqiJDNxjKd",
        "colab_type": "code",
        "colab": {
          "base_uri": "https://localhost:8080/",
          "height": 67
        },
        "outputId": "7a9a8e1c-4446-41eb-f9ad-bf42ba8f132d"
      },
      "source": [
        "frequencia_teorica = 1 / probabilidade_teorica\n",
        "print('Para uma distribuição Normal: \\nUma vez a cada {} dias'.format(int(round(frequencia_teorica, 5))))\n",
        "print('Ou uma vez a cada {} anos'.format(int(round(frequencia_teorica/252, 5))))"
      ],
      "execution_count": null,
      "outputs": [
        {
          "output_type": "stream",
          "text": [
            "Para uma distribuição Normal: \n",
            "Uma vez a cada 22587949 dias\n",
            "Ou uma vez a cada 89634 anos\n"
          ],
          "name": "stdout"
        }
      ]
    },
    {
      "cell_type": "code",
      "metadata": {
        "id": "m37g8WSqxjOb",
        "colab_type": "code",
        "colab": {
          "base_uri": "https://localhost:8080/",
          "height": 50
        },
        "outputId": "6220319e-15a7-4386-d9f7-e8b5296390b5"
      },
      "source": [
        "frequencia_observada = ibov['retorno'].size / ibov[ibov[\"retorno\"] < -0.12].shape[0] \n",
        "print('Na vida real aconteceu: \\nUma vez a cada {} dias'.format(int(round(frequencia_observada, 5))))"
      ],
      "execution_count": 43,
      "outputs": [
        {
          "output_type": "stream",
          "text": [
            "Na vida real aconteceu: \n",
            "Uma vez a cada 1351 dias\n"
          ],
          "name": "stdout"
        }
      ]
    },
    {
      "cell_type": "code",
      "metadata": {
        "id": "VWe4-FtyxjUp",
        "colab_type": "code",
        "colab": {}
      },
      "source": [
        ""
      ],
      "execution_count": null,
      "outputs": []
    }
  ]
}